{
 "cells": [
  {
   "cell_type": "markdown",
   "id": "437b3c13",
   "metadata": {},
   "source": [
    "# Simple Linear Regression\n"
   ]
  },
  {
   "cell_type": "code",
   "execution_count": 2,
   "id": "3d914f35",
   "metadata": {},
   "outputs": [
    {
     "name": "stdout",
     "output_type": "stream",
     "text": [
      "   Id  Pregnancies  Glucose  BloodPressure  SkinThickness  Insulin   BMI  \\\n",
      "0   1            6      148             72             35        0  33.6   \n",
      "1   2            1       85             66             29        0  26.6   \n",
      "2   3            8      183             64              0        0  23.3   \n",
      "3   4            1       89             66             23       94  28.1   \n",
      "4   5            0      137             40             35      168  43.1   \n",
      "\n",
      "   DiabetesPedigreeFunction  Age  Outcome  \n",
      "0                     0.627   50        1  \n",
      "1                     0.351   31        0  \n",
      "2                     0.672   32        1  \n",
      "3                     0.167   21        0  \n",
      "4                     2.288   33        1  \n"
     ]
    }
   ],
   "source": [
    "#import pandas the data analysis library for python\n",
    "import pandas as pd \n",
    "\n",
    "#upload excel file\n",
    "labdf = pd.read_csv(\"diabetes.csv\")\n",
    "\n",
    "\n",
    "print(labdf.head())"
   ]
  },
  {
   "cell_type": "code",
   "execution_count": null,
   "id": "0dbda21a",
   "metadata": {},
   "outputs": [],
   "source": []
  }
 ],
 "metadata": {
  "kernelspec": {
   "display_name": "Python 3 (ipykernel)",
   "language": "python",
   "name": "python3"
  },
  "language_info": {
   "codemirror_mode": {
    "name": "ipython",
    "version": 3
   },
   "file_extension": ".py",
   "mimetype": "text/x-python",
   "name": "python",
   "nbconvert_exporter": "python",
   "pygments_lexer": "ipython3",
   "version": "3.9.13"
  }
 },
 "nbformat": 4,
 "nbformat_minor": 5
}
